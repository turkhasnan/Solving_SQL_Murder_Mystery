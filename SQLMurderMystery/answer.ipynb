{
 "cells": [
  {
   "cell_type": "markdown",
   "source": "# Answer to...\n![Title](image-20220823-135919.png)\n##  by Knight Lab Fellows (Joon Park and Cathy He) and Joe Germuska\n\n### Click here to check out the [MYSTERY](\"https://mystery.knightlab.com/\")!\n#### or follow along!\n(Note: no outputs are displayed. Look at the outputs yourself and inquire! I have put my thoughts down after each query!)\n\nEnjoy!",
   "metadata": {
    "cell_id": "a17d07fed0fc4900a8d224e812f495c1",
    "tags": [],
    "deepnote_cell_type": "markdown",
    "deepnote_cell_height": 747.625
   }
  },
  {
   "cell_type": "markdown",
   "source": "### The Synopsis:\n![synopsis](image-20220823-141656.png)",
   "metadata": {
    "cell_id": "ed1a060508744de0b82bbe26cfcd7834",
    "tags": [],
    "deepnote_cell_type": "markdown",
    "deepnote_cell_height": 326.328125
   }
  },
  {
   "cell_type": "markdown",
   "source": "### This query was provided:\n(used to see the names of the tables)\n![Table name query](image-20220823-142301.png)",
   "metadata": {
    "cell_id": "5ec3b455106d4918a531f4ee9ed10700",
    "tags": [],
    "deepnote_cell_type": "markdown",
    "deepnote_cell_height": 582.359375
   }
  },
  {
   "cell_type": "markdown",
   "source": "### They also provided a query to see what data types are in each table.\nYou can change the table name in the quotes to see the information on other tables.\n![data types query](image-20220823-142621.png)",
   "metadata": {
    "cell_id": "09806dfebb294f4da965864a5886efc1",
    "tags": [],
    "deepnote_cell_type": "markdown",
    "deepnote_cell_height": 438.75
   }
  },
  {
   "cell_type": "markdown",
   "source": "### Here is the Relational Database Model:\n![RDB Model](image-20220823-143442.png)",
   "metadata": {
    "cell_id": "132607398b0f4b10ae8c2abe91e71757",
    "tags": [],
    "deepnote_cell_type": "markdown",
    "deepnote_cell_height": 524.421875
   }
  },
  {
   "cell_type": "markdown",
   "source": "### It said to start off with the crime_scene_report with specific filters: \n### Jan. 15, 2018, murder crime, located in SQL City",
   "metadata": {
    "cell_id": "b324d6a5da6d4ca48b47a818b3d88909",
    "tags": [],
    "deepnote_cell_type": "markdown",
    "deepnote_cell_height": 146
   }
  },
  {
   "cell_type": "code",
   "source": "\n\nstep_1 = _deepnote_execute_sql(\"\"\"select *\nfrom crime_scene_report\nwhere date = 20180115 and type = 'murder' and city = 'SQL City';\n\"\"\", 'SQL_DEEPNOTE_DATAFRAME_SQL')\nstep_1",
   "metadata": {
    "tags": [],
    "deepnote_variable_name": "step_1",
    "sql_integration_id": "deepnote-dataframe-sql",
    "cell_id": "d7b203d4744344fd824b843c6837d860",
    "deepnote_cell_type": "sql",
    "deepnote_sql_source": "select *\nfrom crime_scene_report\nwhere date = 20180115 and type = 'murder' and city = 'SQL City';",
    "deepnote_cell_height": 137
   },
   "outputs": [],
   "execution_count": null
  },
  {
   "cell_type": "markdown",
   "source": "3 murders\n(and the last murder has a clue):\n- 1st witness lives on last house Northwestern Dr (no name)\n- 2nd witness from Franklin Ave (Annabel)",
   "metadata": {
    "cell_id": "a89ed7c53821458b9fcb080f9f3983a7",
    "tags": [],
    "deepnote_cell_type": "markdown",
    "deepnote_cell_height": 150.59375
   }
  },
  {
   "cell_type": "markdown",
   "source": "### Lets see who lives on these streets:",
   "metadata": {
    "is_collapsed": false,
    "cell_id": "6c708c7395194e2ab54d4114e5196286",
    "tags": [],
    "formattedRanges": [],
    "deepnote_cell_type": "text-cell-h3"
   }
  },
  {
   "cell_type": "code",
   "source": "\n\nstep_2 = _deepnote_execute_sql(\"\"\"select name, address_number, address_street_name\nfrom person\n-- where address_street_name = 'Franklin Ave and name like 'Annabel_Miller'\n-- ^ to confirm Annabel's information\nwhere address_street_name = 'Northwestern Dr'\norder by address_number desc;\n\"\"\", 'SQL_DEEPNOTE_DATAFRAME_SQL')\nstep_2",
   "metadata": {
    "tags": [],
    "deepnote_variable_name": "step_2",
    "sql_integration_id": "deepnote-dataframe-sql",
    "cell_id": "7550b31ad96c45fa89eb91e26e7d57be",
    "deepnote_cell_type": "sql",
    "deepnote_sql_source": "select name, address_number, address_street_name\nfrom person\n-- where address_street_name = 'Franklin Ave and name like 'Annabel_Miller'\n-- ^ to confirm Annabel's information\nwhere address_street_name = 'Northwestern Dr'\norder by address_number desc;",
    "deepnote_cell_height": 196
   },
   "outputs": [],
   "execution_count": null
  },
  {
   "cell_type": "markdown",
   "source": "- Annabel Miller 103 Franklin Ave \n- A ton of names on Northwestern Dr\n- but possible witnesses from 'last house' of Northwestern Dr\n- Morty Schapiro or Kinsey Erickson (the potential residents of 'last house' on street)",
   "metadata": {
    "cell_id": "51fa793549ed438286225a3d3fe5e532",
    "tags": [],
    "deepnote_cell_type": "markdown",
    "deepnote_cell_height": 145.59375
   }
  },
  {
   "cell_type": "markdown",
   "source": "### Lets look through interviews to find a clue that the witnesses might have said:",
   "metadata": {
    "is_collapsed": false,
    "cell_id": "ca781f0564c649599e980cbfdc5c30bf",
    "tags": [],
    "formattedRanges": [],
    "deepnote_cell_type": "text-cell-h3"
   }
  },
  {
   "cell_type": "code",
   "source": "\n\nstep_3 = _deepnote_execute_sql(\"\"\"select gfnm.name, i.transcript\nfrom get_fit_now_member gfnm left join interview i on gfnm.person_id = i.person_id\nwhere gfnm.name like 'Annabel%';\n\"\"\", 'SQL_DEEPNOTE_DATAFRAME_SQL')\nstep_3",
   "metadata": {
    "tags": [],
    "deepnote_variable_name": "step_3",
    "sql_integration_id": "deepnote-dataframe-sql",
    "cell_id": "12f54adb35f840a7a9825c36757f8deb",
    "deepnote_cell_type": "sql",
    "deepnote_sql_source": "select gfnm.name, i.transcript\nfrom get_fit_now_member gfnm left join interview i on gfnm.person_id = i.person_id\nwhere gfnm.name like 'Annabel%';",
    "deepnote_cell_height": 142
   },
   "outputs": [],
   "execution_count": null
  },
  {
   "cell_type": "markdown",
   "source": "Annabel saw the murder happen and recognized the killer from the gym on Jan. 9th = 20180109",
   "metadata": {
    "cell_id": "849cb74523aa4e359e22224241671d28",
    "tags": [],
    "deepnote_cell_type": "markdown",
    "deepnote_cell_height": 74.796875
   }
  },
  {
   "cell_type": "markdown",
   "source": "### Need to see if id is the same as membership_id:",
   "metadata": {
    "is_collapsed": false,
    "cell_id": "10ca2866232845c8a9b2722ed6f21df9",
    "tags": [],
    "formattedRanges": [],
    "deepnote_cell_type": "text-cell-h3"
   }
  },
  {
   "cell_type": "code",
   "source": "\n\nstep_4 = _deepnote_execute_sql(\"\"\"select id, name\nfrom get_fit_now_member\nwhere name like '%Annabel%';\n\"\"\", 'SQL_DEEPNOTE_DATAFRAME_SQL')\nstep_4",
   "metadata": {
    "tags": [],
    "deepnote_variable_name": "step_4",
    "sql_integration_id": "deepnote-dataframe-sql",
    "cell_id": "bf26d3801498420b8757098dcc0c1d6a",
    "deepnote_cell_type": "sql",
    "deepnote_sql_source": "select id, name\nfrom get_fit_now_member\nwhere name like '%Annabel%';",
    "deepnote_cell_height": 137
   },
   "outputs": [],
   "execution_count": null
  },
  {
   "cell_type": "markdown",
   "source": "id is the same as membership_id so we can just join the tables to get names",
   "metadata": {
    "cell_id": "0cb4f46b328f475ca79450cdbc37c7e0",
    "tags": [],
    "deepnote_cell_type": "markdown",
    "deepnote_cell_height": 52.390625
   }
  },
  {
   "cell_type": "markdown",
   "source": "### Lets see who went to the gym on January 9th, 2018:",
   "metadata": {
    "is_collapsed": false,
    "cell_id": "6f971c69dc424123926acdfa3709a5f4",
    "tags": [],
    "formattedRanges": [],
    "deepnote_cell_type": "text-cell-h3"
   }
  },
  {
   "cell_type": "code",
   "source": "\n\nstep_5 = _deepnote_execute_sql(\"\"\"select membership_id, gfnm.name, check_in_time, check_out_time\nfrom get_fit_now_check_in gfnci \n\tleft join get_fit_now_member gfnm \n\ton gfnci.membership_id = gfnm.id \nwhere check_in_date = 20180109;\n\"\"\", 'SQL_DEEPNOTE_DATAFRAME_SQL')\nstep_5",
   "metadata": {
    "tags": [],
    "deepnote_variable_name": "step_5",
    "sql_integration_id": "deepnote-dataframe-sql",
    "cell_id": "db71238234a8400d8abc0e4359e1928a",
    "deepnote_cell_type": "sql",
    "deepnote_sql_source": "select membership_id, gfnm.name, check_in_time, check_out_time\nfrom get_fit_now_check_in gfnci \n\tleft join get_fit_now_member gfnm \n\ton gfnci.membership_id = gfnm.id \nwhere check_in_date = 20180109;",
    "deepnote_cell_height": 173
   },
   "outputs": [],
   "execution_count": null
  },
  {
   "cell_type": "markdown",
   "source": "### Lets do the same thing but join the street address and narrow down the time to evenings when Annabel is at the gym:\n(Note: I did this thinking that the addresses had something to do with it)\n ",
   "metadata": {
    "cell_id": "621a31a183104c9fa1e882b8f6908599",
    "tags": [],
    "deepnote_cell_type": "markdown",
    "deepnote_cell_height": 164.390625
   }
  },
  {
   "cell_type": "code",
   "source": "\n\nstep_6 = _deepnote_execute_sql(\"\"\"select membership_id, gfnm.name, check_in_time, check_out_time, p.address_street_name\nfrom get_fit_now_check_in gfnci \n\tleft join get_fit_now_member gfnm \n\ton gfnci.membership_id = gfnm.id \n\tleft join person p \n\ton gfnm.person_id = p.id\nwhere check_in_date = 20180109 and check_in_time >= 1530 and check_out_time <= 1730;\n\"\"\", 'SQL_DEEPNOTE_DATAFRAME_SQL')\nstep_6",
   "metadata": {
    "tags": [],
    "deepnote_variable_name": "step_6",
    "sql_integration_id": "deepnote-dataframe-sql",
    "cell_id": "90a7dcee76d54153b161bbb4d89381df",
    "deepnote_cell_type": "sql",
    "deepnote_sql_source": "select membership_id, gfnm.name, check_in_time, check_out_time, p.address_street_name\nfrom get_fit_now_check_in gfnci \n\tleft join get_fit_now_member gfnm \n\ton gfnci.membership_id = gfnm.id \n\tleft join person p \n\ton gfnm.person_id = p.id\nwhere check_in_date = 20180109 and check_in_time >= 1530 and check_out_time <= 1730;",
    "deepnote_cell_height": 214
   },
   "outputs": [],
   "execution_count": null
  },
  {
   "cell_type": "markdown",
   "source": "2 others were at the gym: Joe Germuska (lol a contributor) and Jeremy Bowers",
   "metadata": {
    "cell_id": "92c30738a59a4748b97031f495773006",
    "tags": [],
    "deepnote_cell_type": "markdown",
    "deepnote_cell_height": 52.390625
   }
  },
  {
   "cell_type": "markdown",
   "source": "### I want to find out if they were interviewed:",
   "metadata": {
    "is_collapsed": false,
    "cell_id": "f6b46c268e5e4516b530aeda1b284111",
    "tags": [],
    "formattedRanges": [],
    "deepnote_cell_type": "text-cell-h3"
   }
  },
  {
   "cell_type": "code",
   "source": "\n\nstep_7 = _deepnote_execute_sql(\"\"\"select p.name, i.transcript\nfrom person p left join interview i on p.id = i.person_id\nwhere (p.name like 'Annabel_Miller' or p.name like 'Joe_Germuska' or p.name like 'Jeremy_Bowers');\n\"\"\", 'SQL_DEEPNOTE_DATAFRAME_SQL')\nstep_7",
   "metadata": {
    "tags": [],
    "deepnote_variable_name": "step_7",
    "sql_integration_id": "deepnote-dataframe-sql",
    "cell_id": "33bdafad6e4e49e8a3f9a6f7eb57478f",
    "deepnote_cell_type": "sql",
    "deepnote_sql_source": "select p.name, i.transcript\nfrom person p left join interview i on p.id = i.person_id\nwhere (p.name like 'Annabel_Miller' or p.name like 'Joe_Germuska' or p.name like 'Jeremy_Bowers');",
    "deepnote_cell_height": 142
   },
   "outputs": [],
   "execution_count": null
  },
  {
   "cell_type": "markdown",
   "source": "Clue from Jeremy: \n- hired by rich woman: height 65\"-67\", has red hair, owns tesla model s, attended sql symphony concert 3 times in December 2017",
   "metadata": {
    "cell_id": "51c57e92b15c4fdeb3feea0007b4a8d5",
    "tags": [],
    "deepnote_cell_type": "markdown",
    "deepnote_cell_height": 125.1875
   }
  },
  {
   "cell_type": "markdown",
   "source": "### 2 ways we can go about this:\nFirst way \n- we look through the FB events and see who went to the concert 3 times and investigate their wealth\nSecond way\n- we investigate their wealth and then investigate the wealthy suspect\n",
   "metadata": {
    "cell_id": "31425ed9a1af4247b3f6f740d72efacb",
    "tags": [],
    "deepnote_cell_type": "markdown",
    "deepnote_cell_height": 245.984375
   }
  },
  {
   "cell_type": "code",
   "source": "\n\nstep_8 = _deepnote_execute_sql(\"\"\"select p.name, count(p.name) quantity, fec.event_name\nfrom facebook_event_checkin fec left join person p on fec.person_id = p.id\nwhere fec.event_name = 'SQL Symphony Concert' and fec.date like '201712%'\ngroup by p.name\norder by quantity desc;\n\"\"\", 'SQL_DEEPNOTE_DATAFRAME_SQL')\nstep_8",
   "metadata": {
    "tags": [],
    "deepnote_variable_name": "step_8",
    "sql_integration_id": "deepnote-dataframe-sql",
    "cell_id": "ac1176c38fcd409da2c7e170f050610c",
    "deepnote_cell_type": "sql",
    "deepnote_sql_source": "select p.name, count(p.name) quantity, fec.event_name\nfrom facebook_event_checkin fec left join person p on fec.person_id = p.id\nwhere fec.event_name = 'SQL Symphony Concert' and fec.date like '201712%'\ngroup by p.name\norder by quantity desc;",
    "deepnote_cell_height": 178
   },
   "outputs": [],
   "execution_count": null
  },
  {
   "cell_type": "markdown",
   "source": "Only 2 people who went 3 times:\n- Bryan Pardo and Miranda Priestly\n- Jeremy said that a rich woman hired him. ",
   "metadata": {
    "cell_id": "e330a6a2b4544f499e7af6b9cf2cdf90",
    "tags": [],
    "deepnote_cell_type": "markdown",
    "deepnote_cell_height": 128.1875
   }
  },
  {
   "cell_type": "markdown",
   "source": "### Well, I don't want to assume gender, so let's find their SSN and get their income:",
   "metadata": {
    "is_collapsed": false,
    "cell_id": "c713e90271fb4dcfbd1eebc75efad025",
    "tags": [],
    "formattedRanges": [],
    "deepnote_cell_type": "text-cell-h3"
   }
  },
  {
   "cell_type": "code",
   "source": "\n\nstep_9 = _deepnote_execute_sql(\"\"\"select i.annual_income, p.name\nfrom income i left join person p on i.ssn = p.ssn\nwhere (p.name like 'Miranda_Priestly' or p.name like 'Bryan%');\n\"\"\", 'SQL_DEEPNOTE_DATAFRAME_SQL')\nstep_9",
   "metadata": {
    "tags": [],
    "deepnote_variable_name": "step_9",
    "sql_integration_id": "deepnote-dataframe-sql",
    "cell_id": "765bf7c1a5bf40798a393a4fd5edcf44",
    "deepnote_cell_type": "sql",
    "deepnote_sql_source": "select i.annual_income, p.name\nfrom income i left join person p on i.ssn = p.ssn\nwhere (p.name like 'Miranda_Priestly' or p.name like 'Bryan%');",
    "deepnote_cell_height": 137
   },
   "outputs": [],
   "execution_count": null
  },
  {
   "cell_type": "markdown",
   "source": "Miranda is def rich w/ 310k income, but Bryan does not have a SSN...\nInteresting...",
   "metadata": {
    "cell_id": "695af534027e4091bf0494ae624ca475",
    "tags": [],
    "deepnote_cell_type": "markdown",
    "deepnote_cell_height": 74.796875
   }
  },
  {
   "cell_type": "markdown",
   "source": "### Need to confirm that Bryan has a SSN and is in Person table:",
   "metadata": {
    "is_collapsed": false,
    "cell_id": "d5bb9377149347f4ac009e06841cd7ad",
    "tags": [],
    "formattedRanges": [],
    "deepnote_cell_type": "text-cell-h3"
   }
  },
  {
   "cell_type": "code",
   "source": "\n\nstep_10 = _deepnote_execute_sql(\"\"\"select name, ssn\nfrom person\nwhere name like 'Bryan_Pardo';\n\"\"\", 'SQL_DEEPNOTE_DATAFRAME_SQL')\nstep_10",
   "metadata": {
    "tags": [],
    "deepnote_variable_name": "step_10",
    "sql_integration_id": "deepnote-dataframe-sql",
    "cell_id": "04d8aa54978442699f822d574095124e",
    "deepnote_cell_type": "sql",
    "deepnote_sql_source": "select name, ssn\nfrom person\nwhere name like 'Bryan_Pardo';",
    "deepnote_cell_height": 137
   },
   "outputs": [],
   "execution_count": null
  },
  {
   "cell_type": "markdown",
   "source": "#### Bryan's SSN is 816663882, so let's see if an income matches the SSN:",
   "metadata": {
    "cell_id": "acc91aa3404246fb8e2b839b4042c9aa",
    "tags": [],
    "deepnote_cell_type": "markdown",
    "deepnote_cell_height": 78
   }
  },
  {
   "cell_type": "code",
   "source": "\n\nstep_11 = _deepnote_execute_sql(\"\"\"select i.annual_income, p.name\nfrom income i left join person p on i.ssn = p.ssn\nwhere i.ssn = 816663882;\n\"\"\", 'SQL_DEEPNOTE_DATAFRAME_SQL')\nstep_11",
   "metadata": {
    "tags": [],
    "deepnote_variable_name": "step_11",
    "sql_integration_id": "deepnote-dataframe-sql",
    "cell_id": "b5ef16834a3a4dd39874e0bf78bc240e",
    "deepnote_cell_type": "sql",
    "deepnote_sql_source": "select i.annual_income, p.name\nfrom income i left join person p on i.ssn = p.ssn\nwhere i.ssn = 816663882;",
    "deepnote_cell_height": 137
   },
   "outputs": [],
   "execution_count": null
  },
  {
   "cell_type": "markdown",
   "source": "No result. So, we move on to Miranda.",
   "metadata": {
    "cell_id": "553e1fc1c05443ff99c0aac352b1fda6",
    "tags": [],
    "deepnote_cell_type": "markdown",
    "deepnote_cell_height": 52.390625
   }
  },
  {
   "cell_type": "markdown",
   "source": "### Lets match Miranda's description with what Jeremy said by joining the person table and driver's license:",
   "metadata": {
    "cell_id": "e033631d30ec4468885aa25edfb4c39a",
    "tags": [],
    "deepnote_cell_type": "markdown",
    "deepnote_cell_height": 126
   }
  },
  {
   "cell_type": "code",
   "source": "\n\ndf_13 = _deepnote_execute_sql(\"\"\"select p.name, d.height, d.hair_color, d.gender, d.car_make, d.car_model\nfrom person p left join drivers_license d on p.license_id = d.id\nwhere name like 'Miranda_Priestly';\n\"\"\", 'SQL_DEEPNOTE_DATAFRAME_SQL')\ndf_13",
   "metadata": {
    "tags": [],
    "deepnote_variable_name": "df_13",
    "sql_integration_id": "deepnote-dataframe-sql",
    "cell_id": "31bfddafd965446a821233f7eff17d72",
    "deepnote_cell_type": "sql",
    "deepnote_sql_source": "select p.name, d.height, d.hair_color, d.gender, d.car_make, d.car_model\nfrom person p left join drivers_license d on p.license_id = d.id\nwhere name like 'Miranda_Priestly';",
    "deepnote_cell_height": 142
   },
   "outputs": [],
   "execution_count": null
  },
  {
   "cell_type": "markdown",
   "source": "Everything matches Jeremy's description!",
   "metadata": {
    "cell_id": "87a941b75da64fa7a353786dcebe6947",
    "tags": [],
    "deepnote_cell_type": "markdown",
    "deepnote_cell_height": 52.390625
   }
  },
  {
   "cell_type": "markdown",
   "source": "### With that being said: ",
   "metadata": {
    "is_collapsed": false,
    "cell_id": "6e8bb480d4614708bd0355355e8ca4ca",
    "tags": [],
    "formattedRanges": [],
    "deepnote_cell_type": "text-cell-h3"
   }
  },
  {
   "cell_type": "markdown",
   "source": "Jeremy is probably the killer since they were recognized by Annabel at the gym. \nJeremy also said he was hired by a rich woman. \nRich woman concluded to be Miranda and confirmed description.\nMiranda is the real mastermind.",
   "metadata": {
    "is_collapsed": false,
    "cell_id": "f5818c3d-4d04-474d-8c54-d3dc26a11739",
    "tags": [],
    "formattedRanges": [],
    "deepnote_cell_type": "text-cell-p"
   }
  },
  {
   "cell_type": "markdown",
   "source": "#### Entering Jeremy's name into solution:\n![Soltution_jeremy](image-20220826-125043.png)\n",
   "metadata": {
    "cell_id": "925c16e7d0164849935eaf3d31708502",
    "tags": [],
    "deepnote_cell_type": "markdown",
    "deepnote_cell_height": 328.484375
   }
  },
  {
   "cell_type": "markdown",
   "source": "#### Entering Miranda's name into solution:\n![Solution_miranda](image-20220826-125251.png)",
   "metadata": {
    "cell_id": "982e428dcdfc453ca4005f91ec65a142",
    "tags": [],
    "deepnote_cell_type": "markdown",
    "deepnote_cell_height": 315.265625
   }
  },
  {
   "cell_type": "markdown",
   "source": "![Credits](image-20220823-140351.png)",
   "metadata": {
    "cell_id": "e7236d2e6b2f435e984791e7deaa1c6c",
    "tags": [],
    "deepnote_cell_type": "markdown",
    "deepnote_cell_height": 355.046875
   }
  },
  {
   "cell_type": "markdown",
   "source": "![Credits](image-20220823-140351.png)",
   "metadata": {
    "cell_id": "e7236d2e6b2f435e984791e7deaa1c6c",
    "tags": [],
    "deepnote_cell_type": "markdown",
    "deepnote_cell_height": 355.046875
   }
  },
  {
   "cell_type": "markdown",
   "source": "<a style='text-decoration:none;line-height:16px;display:flex;color:#5B5B62;padding:10px;justify-content:end;' href='https://deepnote.com?utm_source=created-in-deepnote-cell&projectId=da733383-ae0d-4402-8489-9080cb4a0d93' target=\"_blank\">\n<img alt='Created in deepnote.com' style='display:inline;max-height:16px;margin:0px;margin-right:7.5px;' src='data:image/svg+xml;base64,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' > </img>\nCreated in <span style='font-weight:600;margin-left:4px;'>Deepnote</span></a>",
   "metadata": {
    "tags": [],
    "created_in_deepnote_cell": true,
    "deepnote_cell_type": "markdown"
   }
  }
 ],
 "nbformat": 4,
 "nbformat_minor": 2,
 "metadata": {
  "orig_nbformat": 2,
  "deepnote": {},
  "deepnote_notebook_id": "9d643cb3-d1b8-47d5-a7a1-22b0c029d406",
  "deepnote_execution_queue": []
 }
}